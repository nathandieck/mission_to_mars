{
 "cells": [
  {
   "cell_type": "markdown",
   "metadata": {},
   "source": [
    "# Scrape the NASA Website"
   ]
  },
  {
   "cell_type": "code",
   "execution_count": 1,
   "metadata": {},
   "outputs": [],
   "source": [
    "#import dependencies\n",
    "\n",
    "#beautiful soup\n",
    "from bs4 import BeautifulSoup as bs\n",
    "\n",
    "#requests\n",
    "import requests\n",
    "\n",
    "#splinter\n",
    "from splinter import Browser\n",
    "\n",
    "#pandas\n",
    "import pandas as pd\n",
    "\n",
    "#selenium???\n",
    "from selenium import webdriver\n",
    "#from selenium.webdriver.support.ui import WebDriverWait\n",
    "import time"
   ]
  },
  {
   "cell_type": "code",
   "execution_count": 5,
   "metadata": {},
   "outputs": [],
   "source": [
    "#define URLs for our various news sources\n",
    "\n",
    "url_news = \"https://mars.nasa.gov/news/\"\n",
    "url_image = \"https://www.jpl.nasa.gov/spaceimages/?search=&category=Mars\"\n",
    "url_weather = \"https://twitter.com/marswxreport?lang=en\"\n",
    "url_facts = \"https://space-facts.com/mars/\"\n",
    "url_hemispheres = \"https://astrogeology.usgs.gov/search/results?q=hemisphere+enhanced&k1=target&v1=Mars\"\n",
    "url_chicago = \"https://forecast.weather.gov/MapClick.php?lat=42.012590000000046&lon=-87.68613999999997#.XlKRDShKiUl\""
   ]
  },
  {
   "cell_type": "code",
   "execution_count": null,
   "metadata": {},
   "outputs": [],
   "source": [
    "#Pull the information for NASA's Mars News.\n",
    "    #the div class for the headlines is \"content_title\"\n",
    "    #the div class for the paragraph is \"rollover_description_inner\"\n",
    "\n",
    "response = requests.get(url_news)\n",
    "\n",
    "soup = bs(response.text, 'html.parser')\n",
    "\n",
    "print(soup.prettify())\n",
    "\n"
   ]
  },
  {
   "cell_type": "code",
   "execution_count": null,
   "metadata": {},
   "outputs": [],
   "source": [
    "#store the headline and text as a variable\n",
    "\n",
    "news_headline = soup.find('div', class_=\"content_title\").text\n",
    "news_headline = news_headline.replace(\"\\n\",\"\")\n",
    "\n",
    "news_headline"
   ]
  },
  {
   "cell_type": "code",
   "execution_count": null,
   "metadata": {},
   "outputs": [],
   "source": [
    "news_byline = soup.find('div', class_=\"rollover_description_inner\").text\n",
    "news_byline = news_byline.replace(\"\\n\",\"\")\n",
    "news_byline"
   ]
  },
  {
   "cell_type": "code",
   "execution_count": null,
   "metadata": {},
   "outputs": [],
   "source": [
    "# response = requests.get(url_image)\n",
    "# soup = bs(response.text, 'html.parser')\n",
    "\n",
    "# print(soup.prettify())"
   ]
  },
  {
   "cell_type": "code",
   "execution_count": null,
   "metadata": {},
   "outputs": [],
   "source": [
    "#Pull the JPL Mars Image URL (using Splinter per directions in the ReadMe)\n",
    "\n",
    "executable_path = {'executable_path': 'chromedriver.exe'}\n",
    "browser = Browser('chrome', **executable_path, headless=False)\n",
    "\n",
    "browser.visit(url_image)\n",
    "\n",
    "html = browser.html\n",
    "soup = bs(html, 'html.parser')\n",
    "\n",
    "slide = soup.find('li', class_=\"slide\")\n",
    "fancybox = slide.find('a')\n",
    "fimage_name = fancybox['data-title']\n",
    "fimage_desc = fancybox['data-description']\n",
    "fimage_purl = fancybox['data-fancybox-href']\n",
    "\n",
    "fimage_url = f\"https://www.jpl.nasa.gov{fimage_purl}\"\n",
    "\n",
    "browser.quit()\n",
    "\n",
    "print(fimage_name)\n",
    "print(fimage_desc)\n",
    "print(fimage_url)\n"
   ]
  },
  {
   "cell_type": "code",
   "execution_count": 7,
   "metadata": {},
   "outputs": [
    {
     "data": {
      "text/plain": [
       "'InSight sol 441 (2020-02-22) low -95.1ºC (-139.1ºF) high -13.5ºC (7.7ºF)\\nwinds from the SSE at 6.2 m/s (13.8 mph) gusting to 21.0 m/s (47.0 mph)\\npressure at 6.30 hPa'"
      ]
     },
     "execution_count": 7,
     "metadata": {},
     "output_type": "execute_result"
    }
   ],
   "source": [
    "#pull the martian weather report from Twitter to find out whether Chicago is colder than mars right now\n",
    "    #(it happens.)\n",
    "\n",
    "    #selenium??? \n",
    "driver = webdriver.Chrome()  #https://stackoverflow.com/questions/59222947/retrieving-text-from-twitter-account-using-beautifulsoup-and-splinter\n",
    "driver.get(url_weather)\n",
    "\n",
    "#driver.wait = WebDriverWait(driver,5)  #https://allofyourbases.com/2018/01/16/mining-twitter-with-selenium/\n",
    "\n",
    "time.sleep(15)\n",
    "\n",
    "html = driver.page_source\n",
    "\n",
    "driver.close()\n",
    "\n",
    "soup = bs(html, 'html.parser')\n",
    "\n",
    "weather = soup.find('div', class_='css-901oao r-hkyrab r-1qd0xha r-a023e6 r-16dba41 r-ad9z0x r-bcqeeo r-bnwqim r-qvutc0').text\n",
    "\n",
    "weather\n"
   ]
  },
  {
   "cell_type": "code",
   "execution_count": 12,
   "metadata": {},
   "outputs": [
    {
     "data": {
      "text/plain": [
       "37"
      ]
     },
     "execution_count": 12,
     "metadata": {},
     "output_type": "execute_result"
    }
   ],
   "source": [
    "#chicago weather - high temp is...\n",
    "\n",
    "response = requests.get(url_chicago)\n",
    "\n",
    "soup = bs(response.text, 'html.parser')\n",
    "\n",
    "chicago_weather = soup.find('p', class_=\"myforecast-current-lrg\").text\n",
    "\n",
    "chiberia = chicago_weather.replace(\"°F\",\"\")\n",
    "\n",
    "chiberia = int(chiberia)\n",
    "\n",
    "chiberia"
   ]
  },
  {
   "cell_type": "code",
   "execution_count": 20,
   "metadata": {},
   "outputs": [
    {
     "data": {
      "text/plain": [
       "7"
      ]
     },
     "execution_count": 20,
     "metadata": {},
     "output_type": "execute_result"
    }
   ],
   "source": [
    "#mars weather - high temp is...\n",
    "\n",
    "mars_weather = weather.split(\")\")\n",
    "mars_weather = mars_weather[2]\n",
    "mars_weather_2 = mars_weather.split(\"(\")\n",
    "mars_weather_3 = mars_weather_2[1].replace(\"ºF\",\"\")\n",
    "martian_temp = float(mars_weather_3)\n",
    "martian_temp = int(martian_temp)\n",
    "martian_temp"
   ]
  },
  {
   "cell_type": "code",
   "execution_count": null,
   "metadata": {},
   "outputs": [],
   "source": [
    "#is it actually colder on Mars today? \n",
    "\n",
    "if martian_temp > chiberia:\n",
    "    ismarscolder = False\n",
    "else:\n",
    "    ismarscolder = True"
   ]
  },
  {
   "cell_type": "code",
   "execution_count": 10,
   "metadata": {},
   "outputs": [
    {
     "data": {
      "text/html": [
       "<div>\n",
       "<style scoped>\n",
       "    .dataframe tbody tr th:only-of-type {\n",
       "        vertical-align: middle;\n",
       "    }\n",
       "\n",
       "    .dataframe tbody tr th {\n",
       "        vertical-align: top;\n",
       "    }\n",
       "\n",
       "    .dataframe thead th {\n",
       "        text-align: right;\n",
       "    }\n",
       "</style>\n",
       "<table border=\"1\" class=\"dataframe\">\n",
       "  <thead>\n",
       "    <tr style=\"text-align: right;\">\n",
       "      <th></th>\n",
       "      <th>Value</th>\n",
       "    </tr>\n",
       "    <tr>\n",
       "      <th>Datum</th>\n",
       "      <th></th>\n",
       "    </tr>\n",
       "  </thead>\n",
       "  <tbody>\n",
       "    <tr>\n",
       "      <td>Equatorial Diameter:</td>\n",
       "      <td>6,792 km</td>\n",
       "    </tr>\n",
       "    <tr>\n",
       "      <td>Polar Diameter:</td>\n",
       "      <td>6,752 km</td>\n",
       "    </tr>\n",
       "    <tr>\n",
       "      <td>Mass:</td>\n",
       "      <td>6.39 × 10^23 kg (0.11 Earths)</td>\n",
       "    </tr>\n",
       "    <tr>\n",
       "      <td>Moons:</td>\n",
       "      <td>2 (Phobos &amp; Deimos)</td>\n",
       "    </tr>\n",
       "    <tr>\n",
       "      <td>Orbit Distance:</td>\n",
       "      <td>227,943,824 km (1.38 AU)</td>\n",
       "    </tr>\n",
       "    <tr>\n",
       "      <td>Orbit Period:</td>\n",
       "      <td>687 days (1.9 years)</td>\n",
       "    </tr>\n",
       "    <tr>\n",
       "      <td>Surface Temperature:</td>\n",
       "      <td>-87 to -5 °C</td>\n",
       "    </tr>\n",
       "    <tr>\n",
       "      <td>First Record:</td>\n",
       "      <td>2nd millennium BC</td>\n",
       "    </tr>\n",
       "    <tr>\n",
       "      <td>Recorded By:</td>\n",
       "      <td>Egyptian astronomers</td>\n",
       "    </tr>\n",
       "  </tbody>\n",
       "</table>\n",
       "</div>"
      ],
      "text/plain": [
       "                                              Value\n",
       "Datum                                              \n",
       "Equatorial Diameter:                       6,792 km\n",
       "Polar Diameter:                            6,752 km\n",
       "Mass:                 6.39 × 10^23 kg (0.11 Earths)\n",
       "Moons:                          2 (Phobos & Deimos)\n",
       "Orbit Distance:            227,943,824 km (1.38 AU)\n",
       "Orbit Period:                  687 days (1.9 years)\n",
       "Surface Temperature:                   -87 to -5 °C\n",
       "First Record:                     2nd millennium BC\n",
       "Recorded By:                   Egyptian astronomers"
      ]
     },
     "execution_count": 10,
     "metadata": {},
     "output_type": "execute_result"
    }
   ],
   "source": [
    "#pull the list of mars facts from the mars facts website\n",
    "\n",
    "facts = pd.read_html(url_facts)\n",
    "facts = facts[0]\n",
    "\n",
    "facts.columns = ['Datum', 'Value']\n",
    "\n",
    "facts = facts.set_index('Datum')\n",
    "\n",
    "facts"
   ]
  },
  {
   "cell_type": "code",
   "execution_count": 11,
   "metadata": {},
   "outputs": [
    {
     "data": {
      "text/plain": [
       "'<table border=\"1\" class=\"dataframe\">\\n  <thead>\\n    <tr style=\"text-align: right;\">\\n      <th></th>\\n      <th>Value</th>\\n    </tr>\\n    <tr>\\n      <th>Datum</th>\\n      <th></th>\\n    </tr>\\n  </thead>\\n  <tbody>\\n    <tr>\\n      <th>Equatorial Diameter:</th>\\n      <td>6,792 km</td>\\n    </tr>\\n    <tr>\\n      <th>Polar Diameter:</th>\\n      <td>6,752 km</td>\\n    </tr>\\n    <tr>\\n      <th>Mass:</th>\\n      <td>6.39 × 10^23 kg (0.11 Earths)</td>\\n    </tr>\\n    <tr>\\n      <th>Moons:</th>\\n      <td>2 (Phobos &amp; Deimos)</td>\\n    </tr>\\n    <tr>\\n      <th>Orbit Distance:</th>\\n      <td>227,943,824 km (1.38 AU)</td>\\n    </tr>\\n    <tr>\\n      <th>Orbit Period:</th>\\n      <td>687 days (1.9 years)</td>\\n    </tr>\\n    <tr>\\n      <th>Surface Temperature:</th>\\n      <td>-87 to -5 °C</td>\\n    </tr>\\n    <tr>\\n      <th>First Record:</th>\\n      <td>2nd millennium BC</td>\\n    </tr>\\n    <tr>\\n      <th>Recorded By:</th>\\n      <td>Egyptian astronomers</td>\\n    </tr>\\n  </tbody>\\n</table>'"
      ]
     },
     "execution_count": 11,
     "metadata": {},
     "output_type": "execute_result"
    }
   ],
   "source": [
    "facts_html = facts.to_html()\n",
    "\n",
    "facts_html"
   ]
  },
  {
   "cell_type": "code",
   "execution_count": 21,
   "metadata": {},
   "outputs": [
    {
     "name": "stdout",
     "output_type": "stream",
     "text": [
      "<h3>Cerberus Hemisphere Enhanced</h3>\n",
      "Cerberus Hemisphere Enhanced\n"
     ]
    },
    {
     "name": "stderr",
     "output_type": "stream",
     "text": [
      "C:\\ProgramData\\Anaconda3\\lib\\site-packages\\splinter\\driver\\webdriver\\__init__.py:528: FutureWarning: browser.find_link_by_partial_text is deprecated. Use browser.links.find_by_partial_text instead.\n",
      "  FutureWarning,\n"
     ]
    },
    {
     "name": "stdout",
     "output_type": "stream",
     "text": [
      "astrogeology.usgs.gov/cache/images/cfa62af2557222a02478f1fcd781d445_cerberus_enhanced.tif_full.jpg\n",
      "<h3>Schiaparelli Hemisphere Enhanced</h3>\n",
      "Schiaparelli Hemisphere Enhanced\n",
      "astrogeology.usgs.gov/cache/images/3cdd1cbf5e0813bba925c9030d13b62e_schiaparelli_enhanced.tif_full.jpg\n",
      "<h3>Syrtis Major Hemisphere Enhanced</h3>\n",
      "Syrtis Major Hemisphere Enhanced\n",
      "astrogeology.usgs.gov/cache/images/ae209b4e408bb6c3e67b6af38168cf28_syrtis_major_enhanced.tif_full.jpg\n",
      "<h3>Valles Marineris Hemisphere Enhanced</h3>\n",
      "Valles Marineris Hemisphere Enhanced\n",
      "astrogeology.usgs.gov/cache/images/7cf2da4bf549ed01c17f206327be4db7_valles_marineris_enhanced.tif_full.jpg\n",
      "[{'title': 'Cerberus Hemisphere Enhanced', 'img_url': 'astrogeology.usgs.gov/cache/images/cfa62af2557222a02478f1fcd781d445_cerberus_enhanced.tif_full.jpg'}, {'title': 'Schiaparelli Hemisphere Enhanced', 'img_url': 'astrogeology.usgs.gov/cache/images/3cdd1cbf5e0813bba925c9030d13b62e_schiaparelli_enhanced.tif_full.jpg'}, {'title': 'Syrtis Major Hemisphere Enhanced', 'img_url': 'astrogeology.usgs.gov/cache/images/ae209b4e408bb6c3e67b6af38168cf28_syrtis_major_enhanced.tif_full.jpg'}, {'title': 'Valles Marineris Hemisphere Enhanced', 'img_url': 'astrogeology.usgs.gov/cache/images/7cf2da4bf549ed01c17f206327be4db7_valles_marineris_enhanced.tif_full.jpg'}]\n"
     ]
    }
   ],
   "source": [
    "#here come the four martian hemispheres\n",
    "\n",
    "executable_path = {'executable_path': 'chromedriver.exe'}\n",
    "browser = Browser('chrome', **executable_path, headless=False)\n",
    "    \n",
    "hemisphere_urls = []\n",
    "    \n",
    "browser.visit(url_hemispheres)\n",
    "\n",
    "html = browser.html\n",
    "soup = bs(html, 'html.parser')\n",
    "\n",
    "results = soup.find('div', class_='container').find_all('h3')\n",
    "\n",
    "for result in results:\n",
    "    \n",
    "    temp_dict = {}\n",
    "    \n",
    "    print(result)\n",
    "    title = str(result)\n",
    "    title = title.replace(\"<h3>\",\"\")\n",
    "    title = title.replace(\"</h3>\",\"\")\n",
    "    print(title)\n",
    "    \n",
    "    browser.click_link_by_partial_text(title)\n",
    "  \n",
    "    html = browser.html\n",
    "    soup = bs(html, 'html.parser')\n",
    "\n",
    "    spot = soup.find('div', class_='container')\n",
    "    image = spot.find('img', class_='wide-image')\n",
    "    url = image['src']\n",
    "    url = f\"https://astrogeology.usgs.gov{url}\"\n",
    "    print(url)\n",
    "    \n",
    "    key1 = \"title\"\n",
    "    key2 = \"img_url\"\n",
    "    \n",
    "    temp_dict.update({key1: title, key2: url})\n",
    "    \n",
    "    hemisphere_urls.append(temp_dict)\n",
    "    \n",
    "    browser.back()\n",
    "    \n",
    "browser.quit()\n",
    "print(hemisphere_urls)"
   ]
  },
  {
   "cell_type": "code",
   "execution_count": null,
   "metadata": {},
   "outputs": [],
   "source": [
    "\"\"\"\n",
    "To review:\n",
    "Mars News Headline: news_headline\n",
    "Mars News Byline: news_byline\n",
    "\n",
    "Mars Image Name: fimage_name\n",
    "Mars Image Description: fimage_desc\n",
    "Mars Image URL: fimage_url\n",
    "\n",
    "Mars Weather Report: weather\n",
    "Chicago High Temperature: chiberia\n",
    "Martian High Temperature: martian_temp\n",
    "Binary Temperature Variable: ismarscolder\n",
    "\n",
    "Facts List: facts\n",
    "Facts HTML Code: facts_html\n",
    "\n",
    "Hemispheres URL Dictionary: hemisphere_urls\n",
    "\n",
    "\"\"\""
   ]
  }
 ],
 "metadata": {
  "kernelspec": {
   "display_name": "Python 3",
   "language": "python",
   "name": "python3"
  },
  "language_info": {
   "codemirror_mode": {
    "name": "ipython",
    "version": 3
   },
   "file_extension": ".py",
   "mimetype": "text/x-python",
   "name": "python",
   "nbconvert_exporter": "python",
   "pygments_lexer": "ipython3",
   "version": "3.7.4"
  }
 },
 "nbformat": 4,
 "nbformat_minor": 4
}
