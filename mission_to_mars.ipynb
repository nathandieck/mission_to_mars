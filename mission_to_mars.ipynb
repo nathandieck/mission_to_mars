{
 "cells": [
  {
   "cell_type": "markdown",
   "metadata": {},
   "source": [
    "# Scrape the NASA Website"
   ]
  },
  {
   "cell_type": "code",
   "execution_count": 1,
   "metadata": {},
   "outputs": [],
   "source": [
    "#import dependencies\n",
    "\n",
    "#beautiful soup\n",
    "from bs4 import BeautifulSoup as bs\n",
    "\n",
    "#requests\n",
    "import requests\n",
    "\n",
    "#splinter\n",
    "from splinter import Browser\n",
    "\n",
    "#pandas\n",
    "import pandas as pd"
   ]
  },
  {
   "cell_type": "code",
   "execution_count": 2,
   "metadata": {},
   "outputs": [],
   "source": [
    "#define URLs for our various news sources\n",
    "\n",
    "url_news = \"https://mars.nasa.gov/news/\"\n",
    "url_image = \"https://www.jpl.nasa.gov/spaceimages/?search=&category=Mars\"\n",
    "url_weather = \"https://twitter.com/marswxreport?lang=en\"\n",
    "url_facts = \"https://space-facts.com/mars/\"\n",
    "url_hemispheres = \"https://astrogeology.usgs.gov/search/results?q=hemisphere+enhanced&k1=target&v1=Mars\""
   ]
  },
  {
   "cell_type": "code",
   "execution_count": null,
   "metadata": {},
   "outputs": [],
   "source": [
    "#Pull the information for NASA's Mars News.\n",
    "    #the div class for the headlines is \"content_title\"\n",
    "    #the div class for the paragraph is \"rollover_description_inner\"\n",
    "\n",
    "response = requests.get(url_news)\n",
    "\n",
    "soup = bs(response.text, 'html.parser')\n",
    "\n",
    "print(soup.prettify())\n",
    "\n"
   ]
  },
  {
   "cell_type": "code",
   "execution_count": null,
   "metadata": {},
   "outputs": [],
   "source": [
    "#store the headline and text as a variable\n",
    "\n",
    "news_headline = soup.find('div', class_=\"content_title\").text\n",
    "news_headline = news_headline.replace(\"\\n\",\"\")\n",
    "\n",
    "news_headline"
   ]
  },
  {
   "cell_type": "code",
   "execution_count": null,
   "metadata": {},
   "outputs": [],
   "source": [
    "news_byline = soup.find('div', class_=\"rollover_description_inner\").text\n",
    "news_byline = news_byline.replace(\"\\n\",\"\")\n",
    "news_byline"
   ]
  },
  {
   "cell_type": "code",
   "execution_count": null,
   "metadata": {},
   "outputs": [],
   "source": [
    "response = requests.get(url_image)\n",
    "soup = bs(response.text, 'html.parser')\n",
    "\n",
    "print(soup.prettify())"
   ]
  },
  {
   "cell_type": "code",
   "execution_count": null,
   "metadata": {},
   "outputs": [],
   "source": [
    "#Pull the JPL Mars Image URL (using Splinter per directions in the ReadMe)\n",
    "\n",
    "executable_path = {'executable_path': 'chromedriver.exe'}\n",
    "browser = Browser('chrome', **executable_path, headless=False)\n",
    "\n",
    "browser.visit(url_image)\n",
    "\n",
    "html = browser.html\n",
    "soup = bs(html, 'html.parser')\n",
    "\n",
    "slide = soup.find('li', class_=\"slide\")\n",
    "fancybox = slide.find('a')\n",
    "fimage_name = fancybox['data-title']\n",
    "fimage_desc = fancybox['data-description']\n",
    "fimage_purl = fancybox['data-fancybox-href']\n",
    "\n",
    "fimage_url = f\"jpl.nasa.gov{fimage_purl}\"\n",
    "\n",
    "print(fimage_name)\n",
    "print(fimage_desc)\n",
    "print(fimage_url)\n"
   ]
  },
  {
   "cell_type": "code",
   "execution_count": 4,
   "metadata": {},
   "outputs": [
    {
     "data": {
      "text/plain": [
       "[]"
      ]
     },
     "execution_count": 4,
     "metadata": {},
     "output_type": "execute_result"
    }
   ],
   "source": [
    "#pull the martian weather report from Twitter to find out whether Chicago is colder than mars right now\n",
    "    #(it happens.)\n",
    "\n",
    "# executable_path = {'executable_path': 'chromedriver.exe'}\n",
    "# browser = Browser('chrome', **executable_path, headless=False)\n",
    "    \n",
    "# browser.visit(url_weather)\n",
    "\n",
    "# html = browser.html\n",
    "# soup = bs(html, 'html.parser')\n",
    "\n",
    "# #tweet = soup.find('span', class_=\"css-901oao css-16my406 r-1qd0xha r-ad9z0x r-bcqeeo r-qvutc0\").get_text()\n",
    "\n",
    "# print(soup.prettify())\n",
    "\n",
    "\n",
    "response = requests.get(url_weather)\n",
    "\n",
    "soup = bs(response.text, 'html.parser')\n",
    "\n",
    "results = soup.find_all('div', string_=\"InSight\")\n",
    "\n",
    "results\n",
    "\n"
   ]
  },
  {
   "cell_type": "code",
   "execution_count": null,
   "metadata": {},
   "outputs": [],
   "source": [
    "#pull the list of mars facts from the mars facts website\n",
    "\n",
    "facts = pd.read_html(url_facts)\n",
    "facts = facts[0]\n",
    "\n",
    "facts"
   ]
  },
  {
   "cell_type": "code",
   "execution_count": null,
   "metadata": {},
   "outputs": [],
   "source": [
    "facts_html = facts.to_html()\n",
    "\n",
    "facts_html"
   ]
  },
  {
   "cell_type": "code",
   "execution_count": 35,
   "metadata": {},
   "outputs": [
    {
     "name": "stdout",
     "output_type": "stream",
     "text": [
      "<h3>Cerberus Hemisphere Enhanced</h3>\n",
      "Cerberus Hemisphere Enhanced\n",
      "astrogeology.usgs.gov/cache/images/cfa62af2557222a02478f1fcd781d445_cerberus_enhanced.tif_full.jpg\n",
      "<h3>Schiaparelli Hemisphere Enhanced</h3>\n",
      "Schiaparelli Hemisphere Enhanced\n",
      "astrogeology.usgs.gov/cache/images/3cdd1cbf5e0813bba925c9030d13b62e_schiaparelli_enhanced.tif_full.jpg\n",
      "<h3>Syrtis Major Hemisphere Enhanced</h3>\n",
      "Syrtis Major Hemisphere Enhanced\n",
      "astrogeology.usgs.gov/cache/images/ae209b4e408bb6c3e67b6af38168cf28_syrtis_major_enhanced.tif_full.jpg\n",
      "<h3>Valles Marineris Hemisphere Enhanced</h3>\n",
      "Valles Marineris Hemisphere Enhanced\n",
      "astrogeology.usgs.gov/cache/images/7cf2da4bf549ed01c17f206327be4db7_valles_marineris_enhanced.tif_full.jpg\n",
      "[{'title': 'Cerberus Hemisphere Enhanced', 'img_url': 'astrogeology.usgs.gov/cache/images/cfa62af2557222a02478f1fcd781d445_cerberus_enhanced.tif_full.jpg'}, {'title': 'Schiaparelli Hemisphere Enhanced', 'img_url': 'astrogeology.usgs.gov/cache/images/3cdd1cbf5e0813bba925c9030d13b62e_schiaparelli_enhanced.tif_full.jpg'}, {'title': 'Syrtis Major Hemisphere Enhanced', 'img_url': 'astrogeology.usgs.gov/cache/images/ae209b4e408bb6c3e67b6af38168cf28_syrtis_major_enhanced.tif_full.jpg'}, {'title': 'Valles Marineris Hemisphere Enhanced', 'img_url': 'astrogeology.usgs.gov/cache/images/7cf2da4bf549ed01c17f206327be4db7_valles_marineris_enhanced.tif_full.jpg'}]\n"
     ]
    }
   ],
   "source": [
    "#here come the four martian hemispheres\n",
    "\n",
    "executable_path = {'executable_path': 'chromedriver.exe'}\n",
    "browser = Browser('chrome', **executable_path, headless=False)\n",
    "    \n",
    "hemisphere_urls = []\n",
    "    \n",
    "browser.visit(url_hemispheres)\n",
    "\n",
    "html = browser.html\n",
    "soup = bs(html, 'html.parser')\n",
    "\n",
    "results = soup.find('div', class_='container').find_all('h3')\n",
    "\n",
    "for result in results:\n",
    "    \n",
    "    temp_dict = {}\n",
    "    \n",
    "    print(result)\n",
    "    title = str(result)\n",
    "    title = title.replace(\"<h3>\",\"\")\n",
    "    title = title.replace(\"</h3>\",\"\")\n",
    "    print(title)\n",
    "    \n",
    "    browser.click_link_by_partial_text(title)\n",
    "  \n",
    "    html = browser.html\n",
    "    soup = bs(html, 'html.parser')\n",
    "\n",
    "    spot = soup.find('div', class_='container')\n",
    "    image = spot.find('img', class_='wide-image')\n",
    "    url = image['src']\n",
    "    url = f\"astrogeology.usgs.gov{url}\"\n",
    "    print(url)\n",
    "    \n",
    "    key1 = \"title\"\n",
    "    key2 = \"img_url\"\n",
    "    \n",
    "    temp_dict.update({key1: title, key2: url})\n",
    "    \n",
    "    hemisphere_urls.append(temp_dict)\n",
    "    \n",
    "    browser.back()\n",
    "    \n",
    "print(hemisphere_urls)"
   ]
  },
  {
   "cell_type": "code",
   "execution_count": null,
   "metadata": {},
   "outputs": [],
   "source": []
  }
 ],
 "metadata": {
  "kernelspec": {
   "display_name": "Python 3",
   "language": "python",
   "name": "python3"
  },
  "language_info": {
   "codemirror_mode": {
    "name": "ipython",
    "version": 3
   },
   "file_extension": ".py",
   "mimetype": "text/x-python",
   "name": "python",
   "nbconvert_exporter": "python",
   "pygments_lexer": "ipython3",
   "version": "3.7.4"
  }
 },
 "nbformat": 4,
 "nbformat_minor": 4
}
